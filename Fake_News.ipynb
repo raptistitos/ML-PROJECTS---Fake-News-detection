{
 "cells": [
  {
   "cell_type": "markdown",
   "id": "d49e633d",
   "metadata": {},
   "source": [
    "# Fake News Classifier"
   ]
  },
  {
   "cell_type": "markdown",
   "id": "a09f449e",
   "metadata": {},
   "source": [
    "## Libraries used"
   ]
  },
  {
   "cell_type": "code",
   "execution_count": 3,
   "id": "157f06ef",
   "metadata": {
    "scrolled": true
   },
   "outputs": [],
   "source": [
    "import numpy as np\n",
    "import pandas as pd\n",
    "import itertools\n",
    "from sklearn.model_selection import train_test_split\n",
    "from sklearn.feature_extraction.text import TfidfVectorizer\n",
    "from sklearn.linear_model import PassiveAggressiveClassifier\n",
    "from sklearn.metrics import accuracy_score, confusion_matrix\n",
    "from time import time"
   ]
  },
  {
   "cell_type": "markdown",
   "id": "5a05daae",
   "metadata": {},
   "source": [
    "## Read the data"
   ]
  },
  {
   "cell_type": "code",
   "execution_count": 4,
   "id": "6037fa9b",
   "metadata": {
    "scrolled": true
   },
   "outputs": [
    {
     "name": "stdout",
     "output_type": "stream",
     "text": [
      "(23481, 5)\n"
     ]
    },
    {
     "data": {
      "text/html": [
       "<div>\n",
       "<style scoped>\n",
       "    .dataframe tbody tr th:only-of-type {\n",
       "        vertical-align: middle;\n",
       "    }\n",
       "\n",
       "    .dataframe tbody tr th {\n",
       "        vertical-align: top;\n",
       "    }\n",
       "\n",
       "    .dataframe thead th {\n",
       "        text-align: right;\n",
       "    }\n",
       "</style>\n",
       "<table border=\"1\" class=\"dataframe\">\n",
       "  <thead>\n",
       "    <tr style=\"text-align: right;\">\n",
       "      <th></th>\n",
       "      <th>title</th>\n",
       "      <th>text</th>\n",
       "      <th>subject</th>\n",
       "      <th>date</th>\n",
       "      <th>label</th>\n",
       "    </tr>\n",
       "  </thead>\n",
       "  <tbody>\n",
       "    <tr>\n",
       "      <th>0</th>\n",
       "      <td>Donald Trump Sends Out Embarrassing New Year’...</td>\n",
       "      <td>Donald Trump just couldn t wish all Americans ...</td>\n",
       "      <td>News</td>\n",
       "      <td>December 31, 2017</td>\n",
       "      <td>Fake</td>\n",
       "    </tr>\n",
       "    <tr>\n",
       "      <th>1</th>\n",
       "      <td>Drunk Bragging Trump Staffer Started Russian ...</td>\n",
       "      <td>House Intelligence Committee Chairman Devin Nu...</td>\n",
       "      <td>News</td>\n",
       "      <td>December 31, 2017</td>\n",
       "      <td>Fake</td>\n",
       "    </tr>\n",
       "    <tr>\n",
       "      <th>2</th>\n",
       "      <td>Sheriff David Clarke Becomes An Internet Joke...</td>\n",
       "      <td>On Friday, it was revealed that former Milwauk...</td>\n",
       "      <td>News</td>\n",
       "      <td>December 30, 2017</td>\n",
       "      <td>Fake</td>\n",
       "    </tr>\n",
       "    <tr>\n",
       "      <th>3</th>\n",
       "      <td>Trump Is So Obsessed He Even Has Obama’s Name...</td>\n",
       "      <td>On Christmas day, Donald Trump announced that ...</td>\n",
       "      <td>News</td>\n",
       "      <td>December 29, 2017</td>\n",
       "      <td>Fake</td>\n",
       "    </tr>\n",
       "    <tr>\n",
       "      <th>4</th>\n",
       "      <td>Pope Francis Just Called Out Donald Trump Dur...</td>\n",
       "      <td>Pope Francis used his annual Christmas Day mes...</td>\n",
       "      <td>News</td>\n",
       "      <td>December 25, 2017</td>\n",
       "      <td>Fake</td>\n",
       "    </tr>\n",
       "  </tbody>\n",
       "</table>\n",
       "</div>"
      ],
      "text/plain": [
       "                                               title  \\\n",
       "0   Donald Trump Sends Out Embarrassing New Year’...   \n",
       "1   Drunk Bragging Trump Staffer Started Russian ...   \n",
       "2   Sheriff David Clarke Becomes An Internet Joke...   \n",
       "3   Trump Is So Obsessed He Even Has Obama’s Name...   \n",
       "4   Pope Francis Just Called Out Donald Trump Dur...   \n",
       "\n",
       "                                                text subject  \\\n",
       "0  Donald Trump just couldn t wish all Americans ...    News   \n",
       "1  House Intelligence Committee Chairman Devin Nu...    News   \n",
       "2  On Friday, it was revealed that former Milwauk...    News   \n",
       "3  On Christmas day, Donald Trump announced that ...    News   \n",
       "4  Pope Francis used his annual Christmas Day mes...    News   \n",
       "\n",
       "                date label  \n",
       "0  December 31, 2017  Fake  \n",
       "1  December 31, 2017  Fake  \n",
       "2  December 30, 2017  Fake  \n",
       "3  December 29, 2017  Fake  \n",
       "4  December 25, 2017  Fake  "
      ]
     },
     "execution_count": 4,
     "metadata": {},
     "output_type": "execute_result"
    }
   ],
   "source": [
    "#Read the fake data\n",
    "df_fake=pd.read_csv('Fake.csv')\n",
    "df_fake['label'] = 'Fake'\n",
    "#Get shape and head\n",
    "print(df_fake.shape)\n",
    "df_fake.head()"
   ]
  },
  {
   "cell_type": "code",
   "execution_count": 5,
   "id": "bea3249f",
   "metadata": {},
   "outputs": [
    {
     "name": "stdout",
     "output_type": "stream",
     "text": [
      "(21417, 5)\n"
     ]
    },
    {
     "data": {
      "text/plain": [
       "21417"
      ]
     },
     "execution_count": 5,
     "metadata": {},
     "output_type": "execute_result"
    }
   ],
   "source": [
    "#Read the true data\n",
    "df_true=pd.read_csv('True.csv')\n",
    "df_true['label'] = 'True'\n",
    "#Get shape and head\n",
    "print(df_true.shape)\n",
    "df_true.head()\n",
    "len(df_true['label'])"
   ]
  },
  {
   "cell_type": "markdown",
   "id": "9d57a35f",
   "metadata": {},
   "source": [
    "### Concat the two dataframes"
   ]
  },
  {
   "cell_type": "code",
   "execution_count": 72,
   "id": "0bc72880",
   "metadata": {},
   "outputs": [
    {
     "name": "stdout",
     "output_type": "stream",
     "text": [
      "(44898, 5)\n"
     ]
    },
    {
     "data": {
      "text/html": [
       "<div>\n",
       "<style scoped>\n",
       "    .dataframe tbody tr th:only-of-type {\n",
       "        vertical-align: middle;\n",
       "    }\n",
       "\n",
       "    .dataframe tbody tr th {\n",
       "        vertical-align: top;\n",
       "    }\n",
       "\n",
       "    .dataframe thead th {\n",
       "        text-align: right;\n",
       "    }\n",
       "</style>\n",
       "<table border=\"1\" class=\"dataframe\">\n",
       "  <thead>\n",
       "    <tr style=\"text-align: right;\">\n",
       "      <th></th>\n",
       "      <th>title</th>\n",
       "      <th>text</th>\n",
       "      <th>subject</th>\n",
       "      <th>date</th>\n",
       "      <th>label</th>\n",
       "    </tr>\n",
       "  </thead>\n",
       "  <tbody>\n",
       "    <tr>\n",
       "      <th>0</th>\n",
       "      <td>Donald Trump Sends Out Embarrassing New Year’...</td>\n",
       "      <td>Donald Trump just couldn t wish all Americans ...</td>\n",
       "      <td>News</td>\n",
       "      <td>December 31, 2017</td>\n",
       "      <td>0</td>\n",
       "    </tr>\n",
       "    <tr>\n",
       "      <th>1</th>\n",
       "      <td>Drunk Bragging Trump Staffer Started Russian ...</td>\n",
       "      <td>House Intelligence Committee Chairman Devin Nu...</td>\n",
       "      <td>News</td>\n",
       "      <td>December 31, 2017</td>\n",
       "      <td>0</td>\n",
       "    </tr>\n",
       "    <tr>\n",
       "      <th>2</th>\n",
       "      <td>Sheriff David Clarke Becomes An Internet Joke...</td>\n",
       "      <td>On Friday, it was revealed that former Milwauk...</td>\n",
       "      <td>News</td>\n",
       "      <td>December 30, 2017</td>\n",
       "      <td>0</td>\n",
       "    </tr>\n",
       "    <tr>\n",
       "      <th>3</th>\n",
       "      <td>Trump Is So Obsessed He Even Has Obama’s Name...</td>\n",
       "      <td>On Christmas day, Donald Trump announced that ...</td>\n",
       "      <td>News</td>\n",
       "      <td>December 29, 2017</td>\n",
       "      <td>0</td>\n",
       "    </tr>\n",
       "    <tr>\n",
       "      <th>4</th>\n",
       "      <td>Pope Francis Just Called Out Donald Trump Dur...</td>\n",
       "      <td>Pope Francis used his annual Christmas Day mes...</td>\n",
       "      <td>News</td>\n",
       "      <td>December 25, 2017</td>\n",
       "      <td>0</td>\n",
       "    </tr>\n",
       "  </tbody>\n",
       "</table>\n",
       "</div>"
      ],
      "text/plain": [
       "                                               title  \\\n",
       "0   Donald Trump Sends Out Embarrassing New Year’...   \n",
       "1   Drunk Bragging Trump Staffer Started Russian ...   \n",
       "2   Sheriff David Clarke Becomes An Internet Joke...   \n",
       "3   Trump Is So Obsessed He Even Has Obama’s Name...   \n",
       "4   Pope Francis Just Called Out Donald Trump Dur...   \n",
       "\n",
       "                                                text subject  \\\n",
       "0  Donald Trump just couldn t wish all Americans ...    News   \n",
       "1  House Intelligence Committee Chairman Devin Nu...    News   \n",
       "2  On Friday, it was revealed that former Milwauk...    News   \n",
       "3  On Christmas day, Donald Trump announced that ...    News   \n",
       "4  Pope Francis used his annual Christmas Day mes...    News   \n",
       "\n",
       "                date  label  \n",
       "0  December 31, 2017      0  \n",
       "1  December 31, 2017      0  \n",
       "2  December 30, 2017      0  \n",
       "3  December 29, 2017      0  \n",
       "4  December 25, 2017      0  "
      ]
     },
     "execution_count": 72,
     "metadata": {},
     "output_type": "execute_result"
    }
   ],
   "source": [
    "data = [df_fake, df_true]\n",
    "\n",
    "df_all = pd.concat(data)\n",
    "\n",
    "df_all['label'] = df_all.label.map({'True': 1, 'Fake': 0})\n",
    "\n",
    "print(df_all.shape)\n",
    "df_all.head()"
   ]
  },
  {
   "cell_type": "code",
   "execution_count": 83,
   "id": "fc919cd3",
   "metadata": {
    "scrolled": true
   },
   "outputs": [
    {
     "data": {
      "text/html": [
       "<div>\n",
       "<style scoped>\n",
       "    .dataframe tbody tr th:only-of-type {\n",
       "        vertical-align: middle;\n",
       "    }\n",
       "\n",
       "    .dataframe tbody tr th {\n",
       "        vertical-align: top;\n",
       "    }\n",
       "\n",
       "    .dataframe thead th {\n",
       "        text-align: right;\n",
       "    }\n",
       "</style>\n",
       "<table border=\"1\" class=\"dataframe\">\n",
       "  <thead>\n",
       "    <tr style=\"text-align: right;\">\n",
       "      <th></th>\n",
       "      <th>title</th>\n",
       "      <th>text</th>\n",
       "      <th>subject</th>\n",
       "      <th>date</th>\n",
       "      <th>label</th>\n",
       "    </tr>\n",
       "  </thead>\n",
       "  <tbody>\n",
       "    <tr>\n",
       "      <th>0</th>\n",
       "      <td>How 'Stop Trump' failed to halt the Republican...</td>\n",
       "      <td>(Reuters) - Republican John Hammond III had ma...</td>\n",
       "      <td>politicsNews</td>\n",
       "      <td>May 4, 2016</td>\n",
       "      <td>1</td>\n",
       "    </tr>\n",
       "    <tr>\n",
       "      <th>1</th>\n",
       "      <td>After question on foreign meddling in Brexit, ...</td>\n",
       "      <td>LONDON (Reuters) - Britain s democracy is one ...</td>\n",
       "      <td>worldnews</td>\n",
       "      <td>October 23, 2017</td>\n",
       "      <td>1</td>\n",
       "    </tr>\n",
       "    <tr>\n",
       "      <th>2</th>\n",
       "      <td>Puerto Rico votes in favor of U.S. statehood a...</td>\n",
       "      <td>SAN JUAN (Reuters) - The economically struggli...</td>\n",
       "      <td>politicsNews</td>\n",
       "      <td>June 11, 2017</td>\n",
       "      <td>1</td>\n",
       "    </tr>\n",
       "    <tr>\n",
       "      <th>3</th>\n",
       "      <td>YOU’RE FIRED! PRES TRUMP FIRES Obama’s Partisa...</td>\n",
       "      <td>The acting Attorney General, Sally Yates, has ...</td>\n",
       "      <td>left-news</td>\n",
       "      <td>Jan 30, 2017</td>\n",
       "      <td>0</td>\n",
       "    </tr>\n",
       "    <tr>\n",
       "      <th>4</th>\n",
       "      <td>Greek police find detonators, bomb making mate...</td>\n",
       "      <td>ATHENS (Reuters) - Greek police found bomb mak...</td>\n",
       "      <td>worldnews</td>\n",
       "      <td>November 28, 2017</td>\n",
       "      <td>1</td>\n",
       "    </tr>\n",
       "  </tbody>\n",
       "</table>\n",
       "</div>"
      ],
      "text/plain": [
       "                                               title  \\\n",
       "0  How 'Stop Trump' failed to halt the Republican...   \n",
       "1  After question on foreign meddling in Brexit, ...   \n",
       "2  Puerto Rico votes in favor of U.S. statehood a...   \n",
       "3  YOU’RE FIRED! PRES TRUMP FIRES Obama’s Partisa...   \n",
       "4  Greek police find detonators, bomb making mate...   \n",
       "\n",
       "                                                text       subject  \\\n",
       "0  (Reuters) - Republican John Hammond III had ma...  politicsNews   \n",
       "1  LONDON (Reuters) - Britain s democracy is one ...     worldnews   \n",
       "2  SAN JUAN (Reuters) - The economically struggli...  politicsNews   \n",
       "3  The acting Attorney General, Sally Yates, has ...     left-news   \n",
       "4  ATHENS (Reuters) - Greek police found bomb mak...     worldnews   \n",
       "\n",
       "                 date  label  \n",
       "0        May 4, 2016       1  \n",
       "1   October 23, 2017       1  \n",
       "2      June 11, 2017       1  \n",
       "3        Jan 30, 2017      0  \n",
       "4  November 28, 2017       1  "
      ]
     },
     "execution_count": 83,
     "metadata": {},
     "output_type": "execute_result"
    }
   ],
   "source": [
    "df = df_all.sample(frac=0.1).reset_index(drop=True)\n",
    "df.head()"
   ]
  },
  {
   "cell_type": "code",
   "execution_count": 84,
   "id": "57db9b5e",
   "metadata": {},
   "outputs": [
    {
     "data": {
      "text/html": [
       "<div>\n",
       "<style scoped>\n",
       "    .dataframe tbody tr th:only-of-type {\n",
       "        vertical-align: middle;\n",
       "    }\n",
       "\n",
       "    .dataframe tbody tr th {\n",
       "        vertical-align: top;\n",
       "    }\n",
       "\n",
       "    .dataframe thead th {\n",
       "        text-align: right;\n",
       "    }\n",
       "</style>\n",
       "<table border=\"1\" class=\"dataframe\">\n",
       "  <thead>\n",
       "    <tr style=\"text-align: right;\">\n",
       "      <th></th>\n",
       "      <th>title</th>\n",
       "      <th>text</th>\n",
       "      <th>subject</th>\n",
       "      <th>date</th>\n",
       "      <th>label</th>\n",
       "    </tr>\n",
       "  </thead>\n",
       "  <tbody>\n",
       "    <tr>\n",
       "      <th>4485</th>\n",
       "      <td>Nigeria NGOs slam civil society bill as grave ...</td>\n",
       "      <td>ABUJA (Reuters) - A bill proposed by Nigerian ...</td>\n",
       "      <td>worldnews</td>\n",
       "      <td>December 13, 2017</td>\n",
       "      <td>1</td>\n",
       "    </tr>\n",
       "    <tr>\n",
       "      <th>4486</th>\n",
       "      <td>Kuwait's ruler accepts cabinet resignation: st...</td>\n",
       "      <td>KUWAIT (Reuters) - Kuwait s ruling emir accept...</td>\n",
       "      <td>worldnews</td>\n",
       "      <td>October 30, 2017</td>\n",
       "      <td>1</td>\n",
       "    </tr>\n",
       "    <tr>\n",
       "      <th>4487</th>\n",
       "      <td>Russian PM says U.S.-Russia ties at low ebb bu...</td>\n",
       "      <td>MOSCOW (Reuters) - Russian Prime Minister Dmit...</td>\n",
       "      <td>worldnews</td>\n",
       "      <td>November 30, 2017</td>\n",
       "      <td>1</td>\n",
       "    </tr>\n",
       "    <tr>\n",
       "      <th>4488</th>\n",
       "      <td>Kenya High Court rules minor candidate should ...</td>\n",
       "      <td>NAIROBI (Reuters) - The Kenyan election board ...</td>\n",
       "      <td>worldnews</td>\n",
       "      <td>October 11, 2017</td>\n",
       "      <td>1</td>\n",
       "    </tr>\n",
       "    <tr>\n",
       "      <th>4489</th>\n",
       "      <td>WATCH Rep. Steve King’s Bombshell Answer on Wh...</td>\n",
       "      <td>Rep. Steve King of Iowa was being interviewed ...</td>\n",
       "      <td>politics</td>\n",
       "      <td>Jul 20, 2017</td>\n",
       "      <td>0</td>\n",
       "    </tr>\n",
       "  </tbody>\n",
       "</table>\n",
       "</div>"
      ],
      "text/plain": [
       "                                                  title  \\\n",
       "4485  Nigeria NGOs slam civil society bill as grave ...   \n",
       "4486  Kuwait's ruler accepts cabinet resignation: st...   \n",
       "4487  Russian PM says U.S.-Russia ties at low ebb bu...   \n",
       "4488  Kenya High Court rules minor candidate should ...   \n",
       "4489  WATCH Rep. Steve King’s Bombshell Answer on Wh...   \n",
       "\n",
       "                                                   text    subject  \\\n",
       "4485  ABUJA (Reuters) - A bill proposed by Nigerian ...  worldnews   \n",
       "4486  KUWAIT (Reuters) - Kuwait s ruling emir accept...  worldnews   \n",
       "4487  MOSCOW (Reuters) - Russian Prime Minister Dmit...  worldnews   \n",
       "4488  NAIROBI (Reuters) - The Kenyan election board ...  worldnews   \n",
       "4489  Rep. Steve King of Iowa was being interviewed ...   politics   \n",
       "\n",
       "                    date  label  \n",
       "4485  December 13, 2017       1  \n",
       "4486   October 30, 2017       1  \n",
       "4487  November 30, 2017       1  \n",
       "4488   October 11, 2017       1  \n",
       "4489        Jul 20, 2017      0  "
      ]
     },
     "execution_count": 84,
     "metadata": {},
     "output_type": "execute_result"
    }
   ],
   "source": [
    "df.tail()"
   ]
  },
  {
   "cell_type": "code",
   "execution_count": 85,
   "id": "3b120750",
   "metadata": {},
   "outputs": [
    {
     "name": "stdout",
     "output_type": "stream",
     "text": [
      "<class 'pandas.core.frame.DataFrame'>\n",
      "RangeIndex: 4490 entries, 0 to 4489\n",
      "Data columns (total 5 columns):\n",
      " #   Column   Non-Null Count  Dtype \n",
      "---  ------   --------------  ----- \n",
      " 0   title    4490 non-null   object\n",
      " 1   text     4490 non-null   object\n",
      " 2   subject  4490 non-null   object\n",
      " 3   date     4490 non-null   object\n",
      " 4   label    4490 non-null   int64 \n",
      "dtypes: int64(1), object(4)\n",
      "memory usage: 175.5+ KB\n"
     ]
    },
    {
     "data": {
      "text/plain": [
       "(4490, 5)"
      ]
     },
     "execution_count": 85,
     "metadata": {},
     "output_type": "execute_result"
    }
   ],
   "source": [
    "df.info()\n",
    "df.shape"
   ]
  },
  {
   "cell_type": "markdown",
   "id": "0654924d",
   "metadata": {},
   "source": [
    "## Data pre-processing\n",
    "### Steps:\n",
    "#### 1. Remove Blank rows in Data, if any\n",
    "#### 2. Change all the text to lower case\n",
    "#### 3. Remove Stop words\n",
    "#### 4. Word Tokenization\n",
    "#### 5. Word Lemmatization"
   ]
  },
  {
   "cell_type": "code",
   "execution_count": 78,
   "id": "e9934d92",
   "metadata": {
    "scrolled": true
   },
   "outputs": [],
   "source": [
    "import nltk\n",
    "#nltk.download('all')\n",
    "from nltk.tokenize import word_tokenize\n",
    "from nltk import pos_tag\n",
    "from nltk.corpus import stopwords\n",
    "from nltk.stem import WordNetLemmatizer\n",
    "from sklearn.preprocessing import LabelEncoder\n",
    "from collections import defaultdict\n",
    "from nltk.corpus import wordnet as wn"
   ]
  },
  {
   "cell_type": "code",
   "execution_count": 86,
   "id": "93734bdd",
   "metadata": {},
   "outputs": [
    {
     "name": "stdout",
     "output_type": "stream",
     "text": [
      "test time:  0.003s\n"
     ]
    },
    {
     "data": {
      "text/plain": [
       "0    ankara reuters  turkey said on monday its form...\n",
       "1    massive protests have been taking place boston...\n",
       "2    while it s exciting to see a great television ...\n",
       "3    trump says he s never talked to putin and the ...\n",
       "4     disrupt the inauguration the majority have sp...\n",
       "Name: text, dtype: object"
      ]
     },
     "execution_count": 86,
     "metadata": {},
     "output_type": "execute_result"
    }
   ],
   "source": [
    "# 1) remove blank rows in data, if any\n",
    "t = time()\n",
    "df['text'].dropna(inplace=True)\n",
    "test_time1 = time() - t\n",
    "print(\"test time:  %0.3fs\" % test_time1)\n",
    "text.head()"
   ]
  },
  {
   "cell_type": "code",
   "execution_count": 87,
   "id": "7c081822",
   "metadata": {},
   "outputs": [
    {
     "name": "stderr",
     "output_type": "stream",
     "text": [
      "/var/folders/5x/8z3q1fss5kq86h76kny1218c0000gn/T/ipykernel_76640/444711307.py:4: FutureWarning: The default value of regex will change from True to False in a future version.\n",
      "  df['text'] = df.text.str.replace('[^\\w\\s]', '')\n"
     ]
    },
    {
     "name": "stdout",
     "output_type": "stream",
     "text": [
      "test time:  1.183s\n"
     ]
    },
    {
     "data": {
      "text/plain": [
       "0    reuters  republican john hammond iii had made ...\n",
       "1    london reuters  itain s democracy is one of th...\n",
       "2    san juan reuters  the economically struggling ...\n",
       "3    the acting attorney general sally yates has be...\n",
       "4    athens reuters  greek police found bomb making...\n",
       "Name: text, dtype: object"
      ]
     },
     "execution_count": 87,
     "metadata": {},
     "output_type": "execute_result"
    }
   ],
   "source": [
    "# 2) change all the text to lower case (this is required as python interprets 'dog' and 'DOG' differently) and remove punctuations.\n",
    "t = time()\n",
    "df['text'] = [str(entry).lower() for entry in df['text']]\n",
    "df['text'] = df.text.str.replace('[^\\w\\s]', '')\n",
    "df['text'] = df.text.str.replace('br', '')\n",
    "test_time2 = time() - t\n",
    "print(\"test time:  %0.3fs\" % test_time2)\n",
    "text = df.text\n",
    "text.head()"
   ]
  },
  {
   "cell_type": "code",
   "execution_count": 94,
   "id": "7c4229a0",
   "metadata": {},
   "outputs": [
    {
     "name": "stdout",
     "output_type": "stream",
     "text": [
      "test time:  4.464s\n"
     ]
    },
    {
     "data": {
      "text/plain": [
       "0    reuters republican john hammond iii made secre...\n",
       "1    london reuters itain democracy one secure worl...\n",
       "2    san juan reuters economically struggling us is...\n",
       "3    acting attorney general sally yates betrayed d...\n",
       "4    athens reuters greek police found bomb making ...\n",
       "Name: text_without_stopwords, dtype: object"
      ]
     },
     "execution_count": 94,
     "metadata": {},
     "output_type": "execute_result"
    }
   ],
   "source": [
    "# 3) remove Stop words\n",
    "from nltk.corpus import stopwords\n",
    "stop = stopwords.words('english')\n",
    "t = time()\n",
    "df['text_without_stopwords'] = df['text'].apply(lambda x: ' '.join([item for item in x.split() if item not in (stop)]))\n",
    "test_time3 = time() - t\n",
    "print(\"test time:  %0.3fs\" % test_time)\n",
    "text_without_stopwords = df.text_without_stopwords\n",
    "text_without_stopwords.head()"
   ]
  },
  {
   "cell_type": "code",
   "execution_count": 95,
   "id": "3f35b4c2",
   "metadata": {},
   "outputs": [
    {
     "name": "stdout",
     "output_type": "stream",
     "text": [
      "test time:  5.457s\n"
     ]
    },
    {
     "data": {
      "text/plain": [
       "<bound method NDFrame.head of 0       [reuters, republican, john, hammond, iii, made...\n",
       "1       [london, reuters, itain, democracy, one, secur...\n",
       "2       [san, juan, reuters, economically, struggling,...\n",
       "3       [acting, attorney, general, sally, yates, betr...\n",
       "4       [athens, reuters, greek, police, found, bomb, ...\n",
       "                              ...                        \n",
       "4485    [abuja, reuters, bill, proposed, nigerian, law...\n",
       "4486    [kuwait, reuters, kuwait, ruling, emir, accept...\n",
       "4487    [moscow, reuters, russian, prime, minister, dm...\n",
       "4488    [nairobi, reuters, kenyan, election, board, in...\n",
       "4489    [rep, steve, king, iowa, interviewed, tucker, ...\n",
       "Name: text_tokenized, Length: 4490, dtype: object>"
      ]
     },
     "execution_count": 95,
     "metadata": {},
     "output_type": "execute_result"
    }
   ],
   "source": [
    "# 4)word tokenization\n",
    "t = time()\n",
    "df['text_tokenized'] = df['text_without_stopwords'].apply(word_tokenize)\n",
    "test_time4 = time() - t\n",
    "print(\"test time:  %0.3fs\" % test_time4)\n",
    "text_tokenized = df['text_tokenized']\n",
    "text_tokenized.head"
   ]
  },
  {
   "cell_type": "code",
   "execution_count": 110,
   "id": "3ff2ec0a",
   "metadata": {},
   "outputs": [
    {
     "name": "stdout",
     "output_type": "stream",
     "text": [
      "test time:  204.897s\n"
     ]
    }
   ],
   "source": [
    "# 5) word lemmatization using POS tag\n",
    "from nltk.corpus import wordnet\n",
    "\n",
    "def get_wordnet_pos(word):\n",
    "    \"\"\"Map POS tag to first character lemmatize() accepts\"\"\"\n",
    "    tag = nltk.pos_tag([word])[0][1][0].upper()\n",
    "    tag_dict = {\"J\": wordnet.ADJ,\n",
    "                \"N\": wordnet.NOUN,\n",
    "                \"V\": wordnet.VERB,\n",
    "                \"R\": wordnet.ADV}\n",
    "\n",
    "    return tag_dict.get(tag, wordnet.NOUN)\n",
    "\n",
    "lemmatizer = WordNetLemmatizer()\n",
    "\n",
    "def lem(sentence):\n",
    "    lemmatized_text = []\n",
    "    for i in sentence:\n",
    "        lemmatized_text.append(lemmatizer.lemmatize(i, get_wordnet_pos(i)))\n",
    "    return ' '.join(lemmatized_text)\n",
    "\n",
    "#sentence = text_tokenized[0]\n",
    "#print(sentence)\n",
    "#print(lem(sentence))\n",
    "#df['text_lemmatized'] = df.apply(lambda row: lem(row['text_tokenized']), axis=1)\n",
    "#facts.apply(lambda row: final_pop(row['population'],row['population_growth']),axis=1)\n",
    "t = time()\n",
    "df['text_lemmatized'] = df.apply(lambda row: lem(row['text_tokenized']),axis=1)\n",
    "test_time5= time() - t\n",
    "print(\"test time:  %0.3fs\" % test_time5)\n",
    "#text_lemmatized = df['text_lemmatized']\n",
    "#print(text_lemmatized.head)\n"
   ]
  },
  {
   "cell_type": "markdown",
   "id": "b5c946bb",
   "metadata": {},
   "source": [
    "## The final text to be used is defined here. \n",
    "### We might use either the lemmatized one or the non-stopwords or the initial and compare the effectiveness of them."
   ]
  },
  {
   "cell_type": "code",
   "execution_count": 125,
   "id": "c585a256",
   "metadata": {},
   "outputs": [],
   "source": [
    "df['text_final'] = df['text_lemmatized']"
   ]
  },
  {
   "cell_type": "markdown",
   "id": "8e18d46c",
   "metadata": {},
   "source": [
    "### Split the dataset into training and testing sets"
   ]
  },
  {
   "cell_type": "code",
   "execution_count": 126,
   "id": "b00c51d7",
   "metadata": {},
   "outputs": [
    {
     "data": {
      "text/plain": [
       "0    1\n",
       "1    1\n",
       "2    1\n",
       "3    0\n",
       "4    1\n",
       "Name: label, dtype: int64"
      ]
     },
     "execution_count": 126,
     "metadata": {},
     "output_type": "execute_result"
    }
   ],
   "source": [
    "#check the labels that are mixed\n",
    "labels = df.label\n",
    "labels.head()"
   ]
  },
  {
   "cell_type": "code",
   "execution_count": 127,
   "id": "c1caab8a",
   "metadata": {},
   "outputs": [],
   "source": [
    "x_train,x_test,y_train,y_test=train_test_split(df['text_final'], labels, test_size=0.2, random_state=7)"
   ]
  },
  {
   "cell_type": "markdown",
   "id": "b2049b7f",
   "metadata": {},
   "source": [
    "### Initialize the TF-IDF vectorizer"
   ]
  },
  {
   "cell_type": "markdown",
   "id": "e65765ca",
   "metadata": {},
   "source": [
    "##### We initialize a TfidfVectorizer with stop words from the English language and a maximum document frequency of 0.7 (terms with a higher document frequency will be discarded). Stop words are the most common words in a language that are to be filtered out before processing the natural language data. And a TfidfVectorizer turns a collection of raw documents into a matrix of TF-IDF features."
   ]
  },
  {
   "cell_type": "code",
   "execution_count": 128,
   "id": "bb0232ac",
   "metadata": {},
   "outputs": [],
   "source": [
    "# Initialise the vectorizer\n",
    "tfidf_vectorizer = TfidfVectorizer(stop_words='english', max_df=0.7)\n",
    "\n",
    "# Fit and transform train set, transform test set\n",
    "tfidf_train = tfidf_vectorizer.fit_transform(x_train) \n",
    "tfidf_test = tfidf_vectorizer.transform(x_test)"
   ]
  },
  {
   "cell_type": "code",
   "execution_count": 129,
   "id": "49fdc7c3",
   "metadata": {},
   "outputs": [
    {
     "name": "stdout",
     "output_type": "stream",
     "text": [
      "test time:  1.498s\n"
     ]
    }
   ],
   "source": [
    "t = time()\n",
    "tfidf_train_dense = tfidf_train.toarray()\n",
    "tfidf_test_dense = tfidf_test.toarray()\n",
    "test_time_tfidf = time() - t\n",
    "print(\"test time:  %0.3fs\" % test_time_tfidf)"
   ]
  },
  {
   "cell_type": "markdown",
   "id": "99353ff9",
   "metadata": {},
   "source": [
    "### Initialize a PassiveAggressiveClassifier"
   ]
  },
  {
   "cell_type": "markdown",
   "id": "fee3350b",
   "metadata": {},
   "source": [
    "#### The Passive Aggressive Classifier is set to be the base which will be later compared to other classifiers such as Naive Bayes, SVM, Logistic Regression, Stochastic Gradient Descent and finally the Random Forest Classifier."
   ]
  },
  {
   "cell_type": "code",
   "execution_count": 130,
   "id": "3e041d2a",
   "metadata": {},
   "outputs": [
    {
     "name": "stdout",
     "output_type": "stream",
     "text": [
      "Accuracy: 97.55%\n",
      "test time:  0.236s\n"
     ]
    }
   ],
   "source": [
    "t = time()\n",
    "#Initialize a PassiveAggressiveClassifier\n",
    "pac=PassiveAggressiveClassifier(max_iter=50)\n",
    "pac.fit(tfidf_train,y_train)\n",
    "#Predict on the test set and calculate accuracy\n",
    "y_pred_pac=pac.predict(tfidf_test)\n",
    "score_pac=accuracy_score(y_test,y_pred_pac)\n",
    "print(f'Accuracy: {round(score_pac*100,2)}%')\n",
    "#Check the test time\n",
    "test_time_PAC = time() - t\n",
    "print(\"test time:  %0.3fs\" % test_time_PAC)"
   ]
  },
  {
   "cell_type": "markdown",
   "id": "1885a807",
   "metadata": {},
   "source": [
    "##### print out a confusion matrix to gain insight into the number of false and true negatives and positives."
   ]
  },
  {
   "cell_type": "code",
   "execution_count": 131,
   "id": "530322fc",
   "metadata": {},
   "outputs": [
    {
     "name": "stdout",
     "output_type": "stream",
     "text": [
      "[[474  12]\n",
      " [ 10 402]]\n"
     ]
    }
   ],
   "source": [
    "#Build confusion matrix\n",
    "cm_pac = confusion_matrix(y_test,y_pred_pac, labels=[0,1])\n",
    "print(cm_pac)"
   ]
  },
  {
   "cell_type": "code",
   "execution_count": 132,
   "id": "d6043189",
   "metadata": {},
   "outputs": [
    {
     "name": "stdout",
     "output_type": "stream",
     "text": [
      "so with this model, we have 474 true positives 402 true negatives, 10 false positives, and 12 false negatives.\n"
     ]
    }
   ],
   "source": [
    "print('so with this model, we have', cm_pac[0,0],'true positives',cm_pac[1,1],'true negatives,',cm_pac[1,0],'false positives, and',cm_pac[0,1],'false negatives.')\n"
   ]
  },
  {
   "cell_type": "markdown",
   "id": "db74a878",
   "metadata": {},
   "source": [
    "### Initialize a Naive Bayes classifier"
   ]
  },
  {
   "cell_type": "code",
   "execution_count": 133,
   "id": "5dde4f3e",
   "metadata": {},
   "outputs": [
    {
     "name": "stdout",
     "output_type": "stream",
     "text": [
      "Accuracy: 81.51%\n",
      "test time:  17.878s\n"
     ]
    }
   ],
   "source": [
    "#Import the GNB Classifier\n",
    "from sklearn.naive_bayes import GaussianNB\n",
    "t = time()\n",
    "#Initialize a Naive Bayes Classifier\n",
    "gnb = GaussianNB()\n",
    "gnb.fit(tfidf_train_dense,y_train)\n",
    "#Predict on the test set and calculate accuracy\n",
    "y_pred_gnb = gnb.predict(tfidf_test_dense)\n",
    "score_gnb=accuracy_score(y_test,y_pred_gnb)\n",
    "print(f'Accuracy: {round(score_gnb*100,2)}%')\n",
    "#Check the test time\n",
    "test_time_NBC = time() - t\n",
    "print(\"test time:  %0.3fs\" % test_time_NBC)"
   ]
  },
  {
   "cell_type": "markdown",
   "id": "74b62b50",
   "metadata": {},
   "source": [
    "### Initialize an SVM classifier"
   ]
  },
  {
   "cell_type": "code",
   "execution_count": 135,
   "id": "e463dcec",
   "metadata": {},
   "outputs": [
    {
     "name": "stdout",
     "output_type": "stream",
     "text": [
      "Accuracy: 97.22%\n",
      "test time:  11.474s\n"
     ]
    }
   ],
   "source": [
    "#Import the SVM Classifier\n",
    "from sklearn import svm\n",
    "t = time()\n",
    "#Initialize the SVM Classifier\n",
    "svm = svm.SVC(C=1.0, kernel='linear', gamma='auto')\n",
    "svm.fit(tfidf_train,y_train)\n",
    "#Predict on the test set and calculate accuracy\n",
    "y_pred_svm = svm.predict(tfidf_test)\n",
    "score_svm = accuracy_score(y_test,y_pred_svm)\n",
    "print(f'Accuracy: {round(score_svm*100,2)}%')\n",
    "#Check the test time\n",
    "test_time_SVM = time() - t\n",
    "print(\"test time:  %0.3fs\" % test_time_SVM)"
   ]
  },
  {
   "cell_type": "markdown",
   "id": "f56af26d",
   "metadata": {},
   "source": [
    "### Initialize a Logistic Regression classifier"
   ]
  },
  {
   "cell_type": "code",
   "execution_count": 136,
   "id": "31f5d717",
   "metadata": {},
   "outputs": [
    {
     "name": "stdout",
     "output_type": "stream",
     "text": [
      "[LibLinear]iter  1 act 8.354e+03 pre 7.452e+03 delta 3.903e+01 f 1.245e+04 |g| 7.224e+02 CG   5\n",
      "iter  2 act 9.135e+02 pre 7.767e+02 delta 3.903e+01 f 4.095e+03 |g| 1.631e+02 CG   4\n",
      "iter  3 act 1.205e+02 pre 1.096e+02 delta 3.903e+01 f 3.181e+03 |g| 5.091e+01 CG   4\n",
      "iter  4 act 6.202e+00 pre 6.094e+00 delta 3.903e+01 f 3.061e+03 |g| 8.499e+00 CG   5\n",
      "iter  5 act 7.448e-02 pre 7.449e-02 delta 3.903e+01 f 3.055e+03 |g| 7.466e-01 CG   6\n",
      "Accuracy: 96.1%\n",
      "test time:  0.687s\n"
     ]
    }
   ],
   "source": [
    "#Import the Logistic Regression Classifier\n",
    "from sklearn.linear_model import LogisticRegression\n",
    "t = time()\n",
    "#Initialize the Logistic Regression Classifier\n",
    "log_reg = LogisticRegression(verbose=1, solver='liblinear',random_state=0, C=5, penalty='l2',max_iter=1000)\n",
    "log_reg.fit(tfidf_train,y_train)\n",
    "#Predict on the test set and calculate accuracy\n",
    "y_pred_logreg = log_reg.predict(tfidf_test)\n",
    "score_logreg = accuracy_score(y_test,y_pred_logreg)\n",
    "print(f'Accuracy: {round(score_logreg*100,2)}%')\n",
    "#Check the test time\n",
    "test_time_LogReg = time() - t\n",
    "print(\"test time:  %0.3fs\" % test_time_LogReg)"
   ]
  },
  {
   "cell_type": "markdown",
   "id": "0e7306a6",
   "metadata": {},
   "source": [
    "### Initialize a Random Forest classifier"
   ]
  },
  {
   "cell_type": "code",
   "execution_count": 137,
   "id": "d49dd5cd",
   "metadata": {},
   "outputs": [
    {
     "name": "stdout",
     "output_type": "stream",
     "text": [
      "Accuracy: 93.21%\n",
      "test time:  1.118s\n"
     ]
    }
   ],
   "source": [
    "#Import the Random Forest Classifier\n",
    "from sklearn.ensemble import RandomForestClassifier\n",
    "t = time()\n",
    "#Initialize the Random Forest Classifier\n",
    "random_forest = RandomForestClassifier(n_estimators=200, max_depth=5, random_state=0)\n",
    "random_forest.fit(tfidf_train,y_train)\n",
    "#Predict on the test set and calculate accuracy\n",
    "y_pred_randomforest=random_forest.predict(tfidf_test)\n",
    "score_randomforest = accuracy_score(y_test,y_pred_randomforest)\n",
    "print(f'Accuracy: {round(score_randomforest*100,2)}%')\n",
    "#Check the test time\n",
    "test_time_RandomForest = time() - t\n",
    "print(\"test time:  %0.3fs\" % test_time_RandomForest)"
   ]
  },
  {
   "cell_type": "markdown",
   "id": "6a9f44e6",
   "metadata": {},
   "source": [
    "### Initialize a Stochastic Gradient Descent classifier"
   ]
  },
  {
   "cell_type": "code",
   "execution_count": null,
   "id": "9b4b636a",
   "metadata": {},
   "outputs": [],
   "source": []
  }
 ],
 "metadata": {
  "kernelspec": {
   "display_name": "Python 3 (ipykernel)",
   "language": "python",
   "name": "python3"
  },
  "language_info": {
   "codemirror_mode": {
    "name": "ipython",
    "version": 3
   },
   "file_extension": ".py",
   "mimetype": "text/x-python",
   "name": "python",
   "nbconvert_exporter": "python",
   "pygments_lexer": "ipython3",
   "version": "3.9.10"
  }
 },
 "nbformat": 4,
 "nbformat_minor": 5
}
